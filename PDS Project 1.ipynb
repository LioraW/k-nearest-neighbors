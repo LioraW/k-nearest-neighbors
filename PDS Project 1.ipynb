{
 "cells": [
  {
   "cell_type": "code",
   "execution_count": 1,
   "id": "8ef8201c",
   "metadata": {},
   "outputs": [],
   "source": [
    "#import starements\n",
    "import numpy as np\n",
    "import matplotlib.pyplot as plt\n",
    "import pandas as pd"
   ]
  },
  {
   "cell_type": "code",
   "execution_count": 2,
   "id": "3a2c520e",
   "metadata": {},
   "outputs": [],
   "source": [
    "def print_data(data, training, test):\n",
    "    print(\"Total Data:\")\n",
    "    print(data)\n",
    "    print (\"\\nTraining data:\")\n",
    "    print(training)\n",
    "    print(\"\\nTest Data:\")\n",
    "    print(test)\n",
    "\n",
    "    #https://stackoverflow.com/questions/10374930/matplotlib-annotating-a-3d-scatter-plot\n",
    "    fig = plt.figure()\n",
    "    ax1 = fig.add_subplot(111, projection='3d')\n",
    "    x1 = training.T[0]\n",
    "    x2 = training.T[1]\n",
    "    y = training.T[2]\n",
    "    labels = training.T[3]\n",
    "\n",
    "    # Create point (1,3,4) on figure \n",
    "    ax1.scatter(x1,x2, y, c=labels, cmap='brg', marker='+')\n",
    "\n",
    "    x1 = test.T[0]\n",
    "    x2 = test.T[1]\n",
    "    y = test.T[2]\n",
    "    labels = test.T[3]\n",
    "    \n",
    "    ax1.scatter(x1,x2, y, c=labels, cmap='brg', marker='o')\n",
    "    plt.show()"
   ]
  },
  {
   "cell_type": "code",
   "execution_count": 3,
   "id": "cefc2558",
   "metadata": {},
   "outputs": [],
   "source": [
    "def generate_data(TOTAL_SAMPLE_SIZE,n,d,m,s):\n",
    "\n",
    "    label_names = [\"good\", \"bad\", \"ugly\"]\n",
    "    \n",
    "    #generating the total sample set\n",
    "    rng = np.random.default_rng(seed = 42)\n",
    "    total_sample_set = rng.normal(m, s, d*TOTAL_SAMPLE_SIZE).reshape(TOTAL_SAMPLE_SIZE, d)\n",
    "    \n",
    "    labels = np.random.randint(0, len(label_names), TOTAL_SAMPLE_SIZE)\n",
    "    \n",
    "    # appends the lables to the end of each of the data set\n",
    "    complete_data = np.concatenate((total_sample_set, labels.T.reshape(labels.shape[0], 1)), axis=1)\n",
    "    \n",
    "    return complete_data\n",
    "\n",
    "def separate_test_and_train_data(data, n):\n",
    "    training_ind = np.random.choice(np.arange(len(data)), n, replace=False) #get random indicies for training data\n",
    "    test_ind = np.setdiff1d(np.arange(len(data)), training_ind) #get the indicies not chosen\n",
    "    \n",
    "    training = data[training_ind]\n",
    "    test = data[test_ind]\n",
    "    \n",
    "    return training, test"
   ]
  },
  {
   "cell_type": "code",
   "execution_count": 4,
   "id": "b72e2aa0",
   "metadata": {},
   "outputs": [],
   "source": [
    "def weigh(distance):\n",
    "    return 1/(distance + 0.0001)\n",
    "\n",
    "def distances(train, point):\n",
    "    return np.linalg.norm((train - point), axis=1)\n",
    "\n",
    "def vote(distances, kclasses, k):\n",
    "    labels = [\"good\", \"bad\", \"ugly\"]\n",
    "    \n",
    "    votes = np.zeros(len(labels), dtype=np.float32)\n",
    "    \n",
    "    weight = np.vectorize(weigh)\n",
    "    \n",
    "    w = weight(distances)\n",
    "    \n",
    "    votes = [np.sum(w[kclasses == 0]), np.sum(w[kclasses == 1]), np.sum(w[kclasses == 2])]\n",
    "    \n",
    "    return labels[np.argmax(votes)] #get the winner\n",
    "\n",
    "def kneighbors(train, test, k):\n",
    "    classes = []\n",
    "    for point in test:\n",
    "        dists = distances(train, point)      #1.Find its Euclidean distance from each of the n points in the training data set \n",
    "        smallestK = np.argsort(dists)[:k]    #2.Pick the nearest K points (returns the indicies)\n",
    "        classes.append(vote(dists[smallestK], train[smallestK].T[len(train.T) - 1].astype(int), k)) #3.Output the class by weighted voting using the K nearest neighbors in the above step \n",
    "\n",
    "    return classes\n",
    "    \n",
    "    "
   ]
  },
  {
   "cell_type": "code",
   "execution_count": 5,
   "id": "260cbc45",
   "metadata": {},
   "outputs": [
    {
     "name": "stdout",
     "output_type": "stream",
     "text": [
      "['bad', 'ugly', 'ugly']\n",
      "Total Data:\n",
      "[[5.60943416 2.92003179 6.50090239 0.        ]\n",
      " [6.88112943 1.09792962 2.39564099 2.        ]\n",
      " [5.25568081 4.36751482 4.96639768 1.        ]\n",
      " [3.29391214 6.75879595 6.55558387 2.        ]\n",
      " [5.1320614  7.25448241 5.93501868 0.        ]\n",
      " [3.28141507 5.73750157 3.0822348  0.        ]\n",
      " [6.7569006  4.90014818 4.63027527 1.        ]\n",
      " [3.63814091 7.44508268 4.69094104 2.        ]\n",
      " [4.14334436 4.2957329  6.06461837 2.        ]\n",
      " [5.73088813 5.82546522 5.86164201 2.        ]]\n",
      "\n",
      "Training data:\n",
      "[[5.1320614  7.25448241 5.93501868 0.        ]\n",
      " [5.60943416 2.92003179 6.50090239 0.        ]\n",
      " [6.88112943 1.09792962 2.39564099 2.        ]\n",
      " [3.28141507 5.73750157 3.0822348  0.        ]\n",
      " [5.25568081 4.36751482 4.96639768 1.        ]\n",
      " [3.29391214 6.75879595 6.55558387 2.        ]\n",
      " [5.73088813 5.82546522 5.86164201 2.        ]]\n",
      "\n",
      "Test Data:\n",
      "[[6.7569006  4.90014818 4.63027527 1.        ]\n",
      " [3.63814091 7.44508268 4.69094104 2.        ]\n",
      " [4.14334436 4.2957329  6.06461837 2.        ]]\n"
     ]
    },
    {
     "data": {
      "image/png": "[encoded data removed]",
      "text/plain": [
       "<Figure size 432x288 with 1 Axes>"
      ]
     },
     "metadata": {
      "needs_background": "light"
     },
     "output_type": "display_data"
    }
   ],
   "source": [
    "'''Number of samples (data points or vectors) in the training set: n \n",
    "• Total number of samples (data points or vectors) in the training set plus test set: \n",
    "TOTAL_SAMPLE_SIZE \n",
    "• Number of features: d \n",
    "• Stipulated number of nearest neighbors: K \n",
    "• Mean and standard deviation of the normal distribution: m and s, respectively \n",
    "• Data structure(s) (typically ndarray) holding all the training data and the corresponding labels: \n",
    "X_train, y_train   \n",
    "• Data structure(s) (typically ndarray) holding all the test data and the corresponding labels: \n",
    "X_test, y_test '''\n",
    "\n",
    "TOTAL_SAMPLE_SIZE = 10 # Total number of samples (data points or vectors) in the training set plus test set\n",
    "n = 7 #Number of samples (data points or vectors) in the training set\n",
    "d = 3 #Number of features\n",
    "K = 3 #Stipulated number of nearest neighbors\n",
    "m = 5 #mean of normal distribution\n",
    "s = 2 #std of normal distrubution\n",
    "\n",
    "data = generate_data(TOTAL_SAMPLE_SIZE, n, d, m, s)\n",
    "\n",
    "training, test = separate_test_and_train_data(data, n)\n",
    "\n",
    "print(kneighbors(training, test, K))\n",
    "\n",
    "print_data(data, training, test)"
   ]
  },
  {
   "cell_type": "code",
   "execution_count": null,
   "id": "2b6873df",
   "metadata": {},
   "outputs": [],
   "source": []
  }
 ],
 "metadata": {
  "kernelspec": {
   "display_name": "Python 3",
   "language": "python",
   "name": "python3"
  },
  "language_info": {
   "codemirror_mode": {
    "name": "ipython",
    "version": 3
   },
   "file_extension": ".py",
   "mimetype": "text/x-python",
   "name": "python",
   "nbconvert_exporter": "python",
   "pygments_lexer": "ipython3",
   "version": "3.8.8"
  }
 },
 "nbformat": 4,
 "nbformat_minor": 5
}
